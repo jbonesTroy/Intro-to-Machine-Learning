{
  "nbformat": 4,
  "nbformat_minor": 0,
  "metadata": {
    "colab": {
      "provenance": [],
      "authorship_tag": "ABX9TyNbN9DAAV/N3JKBBIbyGMd6",
      "include_colab_link": true
    },
    "kernelspec": {
      "name": "python3",
      "display_name": "Python 3"
    },
    "language_info": {
      "name": "python"
    }
  },
  "cells": [
    {
      "cell_type": "markdown",
      "metadata": {
        "id": "view-in-github",
        "colab_type": "text"
      },
      "source": [
        "<a href=\"https://colab.research.google.com/github/jbonesTroy/Intro-to-Machine-Learning/blob/main/Homework4.ipynb\" target=\"_parent\"><img src=\"https://colab.research.google.com/assets/colab-badge.svg\" alt=\"Open In Colab\"/></a>"
      ]
    },
    {
      "cell_type": "code",
      "source": [
        "# 15.17 — Binary Classification with the Breast Cancer Dataset\n",
        "\n",
        "from sklearn.datasets import load_breast_cancer\n",
        "from sklearn.model_selection import train_test_split, StratifiedKFold, cross_val_score\n",
        "from sklearn.naive_bayes import GaussianNB\n",
        "from sklearn.neighbors import KNeighborsClassifier\n",
        "from sklearn.linear_model import LogisticRegression\n",
        "from sklearn.svm import SVC\n",
        "from sklearn.metrics import confusion_matrix, classification_report, ConfusionMatrixDisplay\n",
        "import matplotlib.pyplot as plt\n",
        "\n",
        "# -------------------------\n",
        "# Loading the Dataset\n",
        "# -------------------------\n",
        "breast_cancer = load_breast_cancer()\n",
        "X, y = breast_cancer.data, breast_cancer.target\n",
        "\n",
        "# -------------------------\n",
        "# Checking the Sample and Target Sizes\n",
        "# -------------------------\n",
        "print(\"Dataset samples (rows):\", X.shape[0])\n",
        "print(\"Number of features (columns):\", X.shape[1])\n",
        "print(\"Target vector size:\", y.shape[0])\n",
        "print(\"Classes:\", list(map(str, breast_cancer.target_names)))\n",
        "print(\"-\" * 60)\n",
        "\n",
        "# -------------------------\n",
        "# Splitting the Data for Training and Testing\n",
        "# -------------------------\n",
        "X_train, X_test, y_train, y_test = train_test_split(\n",
        "    X, y, test_size=0.25, random_state=42, stratify=y\n",
        ")\n",
        "\n",
        "# -------------------------\n",
        "# Training and Testing Set Sizes\n",
        "# -------------------------\n",
        "print(\"Training set size:\", X_train.shape[0])\n",
        "print(\"Testing set size :\", X_test.shape[0])\n",
        "print(\"-\" * 60)\n",
        "\n",
        "# -------------------------\n",
        "# Creating the Model (GaussianNB)\n",
        "# -------------------------\n",
        "nb = GaussianNB()\n",
        "\n",
        "# -------------------------\n",
        "# Training the Model\n",
        "# -------------------------\n",
        "nb.fit(X_train, y_train)\n",
        "\n",
        "# -------------------------\n",
        "# Predicting\n",
        "# -------------------------\n",
        "y_pred = nb.predict(X_test)\n",
        "\n",
        "# -------------------------\n",
        "# Estimator Method score\n",
        "# -------------------------\n",
        "test_accuracy = nb.score(X_test, y_test)\n",
        "print(f\"GaussianNB Test Accuracy (score): {test_accuracy:.4f}\")\n",
        "\n",
        "# -------------------------\n",
        "# Confusion Matrix\n",
        "# -------------------------\n",
        "cm = confusion_matrix(y_test, y_pred)\n",
        "print(\"Confusion Matrix:\\n\", cm)\n",
        "\n",
        "# -------------------------\n",
        "# Classification Report\n",
        "# -------------------------\n",
        "print(\"\\nClassification Report:\\n\",\n",
        "      classification_report(y_test, y_pred, target_names=list(map(str, breast_cancer.target_names))))\n",
        "\n",
        "# -------------------------\n",
        "# Visualizing the Confusion Matrix\n",
        "# -------------------------\n",
        "disp = ConfusionMatrixDisplay(confusion_matrix=cm,\n",
        "                              display_labels=list(map(str, breast_cancer.target_names)))\n",
        "disp.plot(values_format='d')\n",
        "plt.title(\"GaussianNB — Confusion Matrix (Test Set)\")\n",
        "plt.tight_layout()\n",
        "plt.show()\n",
        "\n",
        "# -------------------------\n",
        "# Stratified K-Fold Cross-Validation (preferred for classification)\n",
        "# -------------------------\n",
        "skf = StratifiedKFold(n_splits=10, random_state=11, shuffle=True)\n",
        "scores = cross_val_score(estimator=nb, X=X, y=y, cv=skf, scoring=\"accuracy\")\n",
        "print(f\"GaussianNB 10-fold CV Accuracy (Stratified): mean={scores.mean():.4f}, std={scores.std():.4f}\")\n",
        "print(\"-\" * 60)\n",
        "\n",
        "# -------------------------\n",
        "# Running Multiple Models to Find the Best One\n",
        "# (LogisticRegression deprecation fix: remove multi_class override)\n",
        "# -------------------------\n",
        "estimators = {\n",
        "    'GaussianNB': nb,\n",
        "    'KNeighborsClassifier': KNeighborsClassifier(),\n",
        "    'LogisticRegression': LogisticRegression(solver='lbfgs', max_iter=10000),\n",
        "    'SVC': SVC(gamma='scale')\n",
        "}\n",
        "\n",
        "cv_results = []\n",
        "for name, model in estimators.items():\n",
        "    model_scores = cross_val_score(model, X, y, cv=skf, scoring=\"accuracy\")\n",
        "    cv_results.append((name, model_scores.mean(), model_scores.std()))\n",
        "    print(f\"{name:22s} CV Accuracy: mean={model_scores.mean():.4f}, std={model_scores.std():.4f}\")\n",
        "\n",
        "# Identify the best mean CV score\n",
        "best_name, best_mean, best_std = sorted(cv_results, key=lambda t: t[1], reverse=True)[0]\n",
        "print(\"-\" * 60)\n",
        "print(f\"Best (by mean CV accuracy): {best_name} -> {best_mean:.4f} ± {best_std:.4f}\")\n"
      ],
      "metadata": {
        "colab": {
          "base_uri": "https://localhost:8080/",
          "height": 1000
        },
        "id": "XPIoWEjOwyUe",
        "outputId": "56b8843a-7264-4942-bbb7-5c8a23b7b07c"
      },
      "execution_count": 2,
      "outputs": [
        {
          "output_type": "stream",
          "name": "stdout",
          "text": [
            "Dataset samples (rows): 569\n",
            "Number of features (columns): 30\n",
            "Target vector size: 569\n",
            "Classes: ['malignant', 'benign']\n",
            "------------------------------------------------------------\n",
            "Training set size: 426\n",
            "Testing set size : 143\n",
            "------------------------------------------------------------\n",
            "GaussianNB Test Accuracy (score): 0.9371\n",
            "Confusion Matrix:\n",
            " [[46  7]\n",
            " [ 2 88]]\n",
            "\n",
            "Classification Report:\n",
            "               precision    recall  f1-score   support\n",
            "\n",
            "   malignant       0.96      0.87      0.91        53\n",
            "      benign       0.93      0.98      0.95        90\n",
            "\n",
            "    accuracy                           0.94       143\n",
            "   macro avg       0.94      0.92      0.93       143\n",
            "weighted avg       0.94      0.94      0.94       143\n",
            "\n"
          ]
        },
        {
          "output_type": "display_data",
          "data": {
            "text/plain": [
              "<Figure size 640x480 with 2 Axes>"
            ],
            "image/png": "[encoded data removed]"
          },
          "metadata": {}
        },
        {
          "output_type": "stream",
          "name": "stdout",
          "text": [
            "GaussianNB 10-fold CV Accuracy (Stratified): mean=0.9421, std=0.0249\n",
            "------------------------------------------------------------\n",
            "GaussianNB             CV Accuracy: mean=0.9421, std=0.0249\n",
            "KNeighborsClassifier   CV Accuracy: mean=0.9315, std=0.0199\n",
            "LogisticRegression     CV Accuracy: mean=0.9490, std=0.0183\n",
            "SVC                    CV Accuracy: mean=0.9209, std=0.0141\n",
            "------------------------------------------------------------\n",
            "Best (by mean CV accuracy): LogisticRegression -> 0.9490 ± 0.0183\n"
          ]
        }
      ]
    }
  ]
}